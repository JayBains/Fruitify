{
  "nbformat": 4,
  "nbformat_minor": 0,
  "metadata": {
    "colab": {
      "name": "CustomTraining.ipynb",
      "provenance": [],
      "collapsed_sections": [],
      "authorship_tag": "ABX9TyOjJSEU0KsdBOpAzolq2p/A",
      "include_colab_link": true
    },
    "kernelspec": {
      "name": "python3",
      "display_name": "Python 3"
    },
    "language_info": {
      "name": "python"
    },
    "accelerator": "GPU"
  },
  "cells": [
    {
      "cell_type": "markdown",
      "metadata": {
        "id": "view-in-github",
        "colab_type": "text"
      },
      "source": [
        "<a href=\"https://colab.research.google.com/github/JayBains/Fruitify/blob/master/CustomTraining.ipynb\" target=\"_parent\"><img src=\"https://colab.research.google.com/assets/colab-badge.svg\" alt=\"Open In Colab\"/></a>"
      ]
    },
    {
      "cell_type": "code",
      "execution_count": null,
      "metadata": {
        "id": "DtmkOR4kjT3Q"
      },
      "outputs": [],
      "source": [
        "from google.colab import drive\n",
        "drive.mount('/content/drive')"
      ]
    },
    {
      "cell_type": "code",
      "source": [
        "!unzip '/content/drive/My Drive/fruit_Training/ci3.zip' -d '/content/drive/My Drive/fruit_Training'"
      ],
      "metadata": {
        "id": "bKac2qn5kdJ6"
      },
      "execution_count": null,
      "outputs": []
    },
    {
      "cell_type": "code",
      "source": [
        "!git clone 'https://github.com/AlexeyAB/darknet.git' '/content/drive/My Drive/fruit_Training/darknet'"
      ],
      "metadata": {
        "id": "HacDz1kbk43Y"
      },
      "execution_count": null,
      "outputs": []
    },
    {
      "cell_type": "code",
      "source": [
        "%cd /content/drive/My Drive/fruit_Training/darknet"
      ],
      "metadata": {
        "id": "TzdjV79alYkh"
      },
      "execution_count": null,
      "outputs": []
    },
    {
      "cell_type": "code",
      "source": [
        "!make clean"
      ],
      "metadata": {
        "id": "PtMGf7wCy__6"
      },
      "execution_count": null,
      "outputs": []
    },
    {
      "cell_type": "code",
      "source": [
        "!make"
      ],
      "metadata": {
        "id": "XUEFVaCBzDjf"
      },
      "execution_count": null,
      "outputs": []
    },
    {
      "cell_type": "code",
      "source": [
        "%cd /content/drive/My Drive/fruit_Training"
      ],
      "metadata": {
        "id": "gv0UtfX2zwSi"
      },
      "execution_count": null,
      "outputs": []
    },
    {
      "cell_type": "code",
      "source": [
        "!python ci3/creating-files-data-and-name.py"
      ],
      "metadata": {
        "id": "iasL7n0Mp2OC"
      },
      "execution_count": null,
      "outputs": []
    },
    {
      "cell_type": "code",
      "source": [
        "!python ci3/creating-train-and-test-txt-files.py"
      ],
      "metadata": {
        "id": "fJqKWmfLqHVe"
      },
      "execution_count": null,
      "outputs": []
    },
    {
      "cell_type": "code",
      "source": [
        "!darknet/darknet detector train ci3/labelled_data.data darknet/cfg/yolov3_fruit.cfg custom_weight/darknet53.conv.74 -dont_show"
      ],
      "metadata": {
        "id": "tOO2VoVAioqd"
      },
      "execution_count": null,
      "outputs": []
    },
    {
      "cell_type": "code",
      "source": [
        "%cd /content/drive/My Drive/fruit_Training"
      ],
      "metadata": {
        "id": "BqU2p4GQJ5vv"
      },
      "execution_count": null,
      "outputs": []
    },
    {
      "cell_type": "code",
      "source": [
        "!darknet/darknet detector map ci3/labelled_data.data darknet/cfg/yolov3_fruit.cfg backup/yolov3_fruit_final.weights"
      ],
      "metadata": {
        "id": "Pxt_jMxLMvLE"
      },
      "execution_count": null,
      "outputs": []
    }
  ]
}